{
 "cells": [
  {
   "cell_type": "code",
   "execution_count": 1,
   "metadata": {
    "collapsed": false
   },
   "outputs": [],
   "source": [
    "import numpy as np\n",
    "from pyspark.mllib.clustering import KMeans"
   ]
  },
  {
   "cell_type": "code",
   "execution_count": 2,
   "metadata": {
    "collapsed": false
   },
   "outputs": [],
   "source": [
    "from pyspark import  SparkContext\n",
    "sc = SparkContext( 'local', 'pyspark')"
   ]
  },
  {
   "cell_type": "code",
   "execution_count": 3,
   "metadata": {
    "collapsed": false
   },
   "outputs": [],
   "source": [
    "inputData = sc.textFile(\"./irisdata.csv\")"
   ]
  },
  {
   "cell_type": "code",
   "execution_count": 4,
   "metadata": {
    "collapsed": false
   },
   "outputs": [
    {
     "data": {
      "text/plain": [
       "150"
      ]
     },
     "execution_count": 4,
     "metadata": {},
     "output_type": "execute_result"
    }
   ],
   "source": [
    "inputData.count()"
   ]
  },
  {
   "cell_type": "code",
   "execution_count": 5,
   "metadata": {
    "collapsed": false
   },
   "outputs": [
    {
     "data": {
      "text/plain": [
       "['5.1,3.5,1.4,0.2,Iris-setosa',\n",
       " '4.9,3,1.4,0.2,Iris-setosa',\n",
       " '4.7,3.2,1.3,0.2,Iris-setosa',\n",
       " '4.6,3.1,1.5,0.2,Iris-setosa',\n",
       " '5,3.6,1.4,0.2,Iris-setosa',\n",
       " '5.4,3.9,1.7,0.4,Iris-setosa',\n",
       " '4.6,3.4,1.4,0.3,Iris-setosa',\n",
       " '5,3.4,1.5,0.2,Iris-setosa',\n",
       " '4.4,2.9,1.4,0.2,Iris-setosa',\n",
       " '4.9,3.1,1.5,0.1,Iris-setosa']"
      ]
     },
     "execution_count": 5,
     "metadata": {},
     "output_type": "execute_result"
    }
   ],
   "source": [
    "inputData.take(10)"
   ]
  },
  {
   "cell_type": "code",
   "execution_count": 2,
   "metadata": {
    "collapsed": false
   },
   "outputs": [],
   "source": [
    "def parseData(line):\n",
    "    ld = line.split(\",\") \n",
    "    return np.array([float(ld[0]),float(ld[1]), float(ld[2]),float(ld[3])])"
   ]
  },
  {
   "cell_type": "code",
   "execution_count": 7,
   "metadata": {
    "collapsed": false
   },
   "outputs": [],
   "source": [
    "modelInput = inputData.map(parseData)"
   ]
  },
  {
   "cell_type": "code",
   "execution_count": 8,
   "metadata": {
    "collapsed": false
   },
   "outputs": [
    {
     "data": {
      "text/plain": [
       "150"
      ]
     },
     "execution_count": 8,
     "metadata": {},
     "output_type": "execute_result"
    }
   ],
   "source": [
    "modelInput.count()"
   ]
  },
  {
   "cell_type": "code",
   "execution_count": 9,
   "metadata": {
    "collapsed": false
   },
   "outputs": [
    {
     "data": {
      "text/plain": [
       "[array([ 5.1,  3.5,  1.4,  0.2]),\n",
       " array([ 4.9,  3. ,  1.4,  0.2]),\n",
       " array([ 4.7,  3.2,  1.3,  0.2]),\n",
       " array([ 4.6,  3.1,  1.5,  0.2]),\n",
       " array([ 5. ,  3.6,  1.4,  0.2]),\n",
       " array([ 5.4,  3.9,  1.7,  0.4]),\n",
       " array([ 4.6,  3.4,  1.4,  0.3]),\n",
       " array([ 5. ,  3.4,  1.5,  0.2]),\n",
       " array([ 4.4,  2.9,  1.4,  0.2]),\n",
       " array([ 4.9,  3.1,  1.5,  0.1])]"
      ]
     },
     "execution_count": 9,
     "metadata": {},
     "output_type": "execute_result"
    }
   ],
   "source": [
    "modelInput.take(10)"
   ]
  },
  {
   "cell_type": "code",
   "execution_count": 10,
   "metadata": {
    "collapsed": false
   },
   "outputs": [],
   "source": [
    "numClusters = 3"
   ]
  },
  {
   "cell_type": "code",
   "execution_count": 11,
   "metadata": {
    "collapsed": false
   },
   "outputs": [],
   "source": [
    "KMmodel = KMeans.train(modelInput, numClusters)"
   ]
  },
  {
   "cell_type": "code",
   "execution_count": 12,
   "metadata": {
    "collapsed": false
   },
   "outputs": [
    {
     "name": "stdout",
     "output_type": "stream",
     "text": [
      "Final centers: [array([ 5.006,  3.418,  1.464,  0.244]), array([ 6.85384615,  3.07692308,  5.71538462,  2.05384615]), array([ 5.88360656,  2.74098361,  4.38852459,  1.43442623])]\n",
      "Total Cost: 78.94506582597637\n"
     ]
    }
   ],
   "source": [
    "print(\"Final centers: \" + str(KMmodel.clusterCenters))\n",
    "print(\"Total Cost: \" + str(KMmodel.computeCost(modelInput)))"
   ]
  },
  {
   "cell_type": "code",
   "execution_count": 13,
   "metadata": {
    "collapsed": false
   },
   "outputs": [],
   "source": [
    "def parseData2(line):\n",
    "    ld = line.split(\",\") \n",
    "    return (ld[4],np.array([float(ld[0]),float(ld[1]), float(ld[2]),float(ld[3])]))"
   ]
  },
  {
   "cell_type": "code",
   "execution_count": 14,
   "metadata": {
    "collapsed": false
   },
   "outputs": [],
   "source": [
    "checkData = inputData.map(parseData2)"
   ]
  },
  {
   "cell_type": "code",
   "execution_count": 15,
   "metadata": {
    "collapsed": false
   },
   "outputs": [
    {
     "data": {
      "text/plain": [
       "150"
      ]
     },
     "execution_count": 15,
     "metadata": {},
     "output_type": "execute_result"
    }
   ],
   "source": [
    "checkData.count()"
   ]
  },
  {
   "cell_type": "code",
   "execution_count": 16,
   "metadata": {
    "collapsed": false,
    "scrolled": true
   },
   "outputs": [
    {
     "data": {
      "text/plain": [
       "[('Iris-setosa', array([ 5.1,  3.5,  1.4,  0.2])),\n",
       " ('Iris-setosa', array([ 4.9,  3. ,  1.4,  0.2])),\n",
       " ('Iris-setosa', array([ 4.7,  3.2,  1.3,  0.2])),\n",
       " ('Iris-setosa', array([ 4.6,  3.1,  1.5,  0.2])),\n",
       " ('Iris-setosa', array([ 5. ,  3.6,  1.4,  0.2])),\n",
       " ('Iris-setosa', array([ 5.4,  3.9,  1.7,  0.4])),\n",
       " ('Iris-setosa', array([ 4.6,  3.4,  1.4,  0.3])),\n",
       " ('Iris-setosa', array([ 5. ,  3.4,  1.5,  0.2])),\n",
       " ('Iris-setosa', array([ 4.4,  2.9,  1.4,  0.2])),\n",
       " ('Iris-setosa', array([ 4.9,  3.1,  1.5,  0.1]))]"
      ]
     },
     "execution_count": 16,
     "metadata": {},
     "output_type": "execute_result"
    }
   ],
   "source": [
    "checkData.take(10)"
   ]
  },
  {
   "cell_type": "code",
   "execution_count": 17,
   "metadata": {
    "collapsed": false
   },
   "outputs": [],
   "source": [
    "labelsAndPreds = checkData.map(lambda p: (p[0], KMmodel.predict(p[1])) )"
   ]
  },
  {
   "cell_type": "code",
   "execution_count": 18,
   "metadata": {
    "collapsed": false
   },
   "outputs": [],
   "source": [
    "labelsAndPreds.saveAsTextFile(\"KM-lap1\")"
   ]
  },
  {
   "cell_type": "code",
   "execution_count": null,
   "metadata": {
    "collapsed": false
   },
   "outputs": [],
   "source": []
  }
 ],
 "metadata": {
  "kernelspec": {
   "display_name": "Python 3",
   "language": "python",
   "name": "python3"
  },
  "language_info": {
   "codemirror_mode": {
    "name": "ipython",
    "version": 3
   },
   "file_extension": ".py",
   "mimetype": "text/x-python",
   "name": "python",
   "nbconvert_exporter": "python",
   "pygments_lexer": "ipython3",
   "version": "3.6.0"
  }
 },
 "nbformat": 4,
 "nbformat_minor": 0
}
